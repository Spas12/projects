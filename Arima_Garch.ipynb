{
 "cells": [
  {
   "cell_type": "code",
   "execution_count": null,
   "id": "de5bc473-fa93-4d8e-81b1-a0f1dc512c6f",
   "metadata": {},
   "outputs": [],
   "source": [
    "import numpy as np\n",
    "import pandas as pd\n",
    "import statsmodels.api as sm\n",
    "from arch import arch_model\n",
    "\n",
    "%matplotlib widget\n",
    "import matplotlib.pyplot as plt\n",
    "\n",
    "from itables import init_notebook_mode\n",
    "init_notebook_mode(all_interactive=True)\n",
    "\n",
    "\n",
    "class ARIMA_GARCH:\n",
    "    def __init__(self, ts, exog=None):\n",
    "        \"\"\"Initialize with time series data.\"\"\"\n",
    "        self.data = ts\n",
    "        self.exog = exog\n",
    "        self.arima_model = None\n",
    "        self.garch_model = None\n",
    "        self.arima_residuals = None\n",
    "\n",
    "    def fit_arima(self, order=(1, 1, 1), seasonal=(0, 0, 0, 0), trend='c'):\n",
    "        \"\"\"Fits an ARIMA model and stores residuals.\"\"\"\n",
    "        model = sm.tsa.statespace.SARIMAX(self.data, self.exog, seasonal_order=seasonal, trend=trend, order=order)\n",
    "        self.arima_model = model.fit()\n",
    "        self.arima_residuals = self.arima_model.resid\n",
    "\n",
    "    def fit_garch(self, p=1, q=1):\n",
    "        \"\"\"Fits a GARCH model on ARIMA residuals.\"\"\"\n",
    "        if self.arima_residuals is None:\n",
    "            raise ValueError(\"Fit ARIMA first before GARCH.\")\n",
    "\n",
    "        model = arch_model(self.arima_residuals, vol='Garch', p=p, q=q, dist=\"StudentsT\")\n",
    "        self.garch_model = model.fit(disp='off')\n",
    "\n",
    "    def predict(self, steps=1):\n",
    "        \"\"\"Forecasts mean (ARIMA) and volatility (GARCH).\"\"\"\n",
    "        if self.arima_model is None or self.garch_model is None:\n",
    "            raise ValueError(\"Fit both ARIMA and GARCH before predicting.\")\n",
    "\n",
    "        arima_forecast = self.arima_model.forecast(steps=steps).values\n",
    "        garch_forecast = self.garch_model.forecast(horizon=steps).mean.values.flatten()\n",
    "        forecast_index = pd.bdate_range(\n",
    "            start=self.data.index[-1] + pd.tseries.offsets.BusinessDay(1), periods=steps)\n",
    "\n",
    "        # Mean and volatility\n",
    "        return pd.Series(arima_forecast, index=forecast_index), pd.Series(garch_forecast, index=forecast_index)\n",
    "\n",
    "    def plot_results(self, steps=10):\n",
    "        \"\"\"Plots historical data and recent predictions using `predict`.\"\"\"\n",
    "        if self.arima_model is None or self.garch_model is None:\n",
    "            raise ValueError(\"Fit both ARIMA and GARCH before plotting.\")\n",
    "\n",
    "        # Get last `steps` predicted values using `predict`\n",
    "        last_index = len(self.data) - steps\n",
    "        arima_predicted = self.arima_model.predict(start=last_index, end=len(self.data) - 1)\n",
    "        garch_predicted = self.garch_model.conditional_volatility[-steps:]\n",
    "\n",
    "        plt.figure(figsize=(10, 5))\n",
    "        plt.plot(self.data, label='Actual Data', color='black')\n",
    "        plt.plot(arima_predicted, label='ARIMA Predicted', linestyle='dashed', color='blue')\n",
    "        plt.fill_between(arima_predicted.index,\n",
    "                         arima_predicted - garch_predicted,\n",
    "                         arima_predicted + garch_predicted,\n",
    "                         color='gray', alpha=0.3, label='Volatility (±1 std)')\n",
    "\n",
    "        plt.legend()\n",
    "        plt.title(f\"ARIMA+GARCH Predictions (Last {steps} Steps)\".format(steps))\n",
    "        plt.show()"
   ]
  },
  {
   "cell_type": "code",
   "execution_count": null,
   "id": "6cc837d5-d6b7-4473-a9bf-400e414604fe",
   "metadata": {},
   "outputs": [],
   "source": [
    "dat = pd.read_csv(\"SP.csv\", index_col=\"Date\", parse_dates=True)[-100:]"
   ]
  },
  {
   "cell_type": "code",
   "execution_count": null,
   "id": "1cadc8d4-3b71-41c3-a5ab-4eed201af396",
   "metadata": {},
   "outputs": [],
   "source": [
    "dat.tail(50)"
   ]
  },
  {
   "cell_type": "code",
   "execution_count": null,
   "id": "6fe2701d-1621-482d-bd4d-820ed1396178",
   "metadata": {
    "editable": true,
    "slideshow": {
     "slide_type": ""
    },
    "tags": []
   },
   "outputs": [],
   "source": [
    "# Example Usage\n",
    "\n",
    "model = ARIMA_GARCH(dat['Adj Close'])\n",
    "model.fit_arima()\n",
    "model.fit_garch()\n",
    "arima, garch = model.predict(5)"
   ]
  },
  {
   "cell_type": "code",
   "execution_count": null,
   "id": "e8c92d28-def8-49da-824e-d5bc7942e05b",
   "metadata": {},
   "outputs": [],
   "source": [
    "model.plot_results(steps=20)"
   ]
  }
 ],
 "metadata": {
  "kernelspec": {
   "display_name": "Python (tsenv)",
   "language": "python",
   "name": "tsenv"
  },
  "language_info": {
   "codemirror_mode": {
    "name": "ipython",
    "version": 3
   },
   "file_extension": ".py",
   "mimetype": "text/x-python",
   "name": "python",
   "nbconvert_exporter": "python",
   "pygments_lexer": "ipython3",
   "version": "3.11.11"
  }
 },
 "nbformat": 4,
 "nbformat_minor": 5
}
