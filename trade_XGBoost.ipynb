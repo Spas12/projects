{
 "cells": [
  {
   "cell_type": "code",
   "execution_count": null,
   "id": "381b716a-5438-47ce-9793-992642f6418a",
   "metadata": {},
   "outputs": [],
   "source": [
    "import matplotlib.pyplot as plt\n",
    "from sklearn.metrics import accuracy_score, precision_recall_curve\n",
    "from sklearn.model_selection import TimeSeriesSplit, cross_val_score\n",
    "import xgboost as xgb\n",
    "import pandas as pd\n",
    "import numpy as np\n",
    "\n",
    "\n",
    "class TradingAlgoXGB:\n",
    "    def __init__(self, data, target=\"Adj Close\", test_size=0.2):\n",
    "        self.data = data\n",
    "        self.target = target\n",
    "        self.test_size = test_size\n",
    "        self.model = None\n",
    "        self.X_train = None\n",
    "        self.X_test = None\n",
    "        self.y_train = None\n",
    "        self.y_test = None\n",
    "\n",
    "    def feature_engineering(self):\n",
    "        self.data['Return'] = self.data[self.target].pct_change()\n",
    "        self.data['SMA_5'] = self.data[self.target].rolling(window=5).mean()\n",
    "        self.data.dropna(inplace=True)\n",
    "        X = self.data[['Return', 'SMA_5']]\n",
    "        y = (self.data[self.target].shift(-1) > self.data[self.target]).astype(int)\n",
    "\n",
    "        split_idx = int(len(X) * (1 - self.test_size))\n",
    "        self.X_train, self.X_test = X.iloc[:split_idx], X.iloc[split_idx:]\n",
    "        self.y_train, self.y_test = y[:split_idx], y[split_idx:]\n",
    "\n",
    "    def train_model(self):\n",
    "        self.feature_engineering()\n",
    "\n",
    "        self.model = xgb.XGBClassifier()\n",
    "        self.model.fit(self.X_train, self.y_train)\n",
    "\n",
    "    def predict(self, test_set):\n",
    "        if self.model is None:\n",
    "            raise ValueError(\"Model is not trained. Call train_model first.\")\n",
    "        return self.model.predict(test_set)\n",
    "\n",
    "    def cross_validate(self, folds=5):\n",
    "        if self.model is None:\n",
    "            raise ValueError(\"Model is not trained. Call train_model first.\")\n",
    "\n",
    "        self.feature_engineering()\n",
    "\n",
    "        tscv = TimeSeriesSplit(n_splits=folds)\n",
    "\n",
    "        scores = cross_val_score(self.model, self.X_test, self.y_test, cv=tscv, scoring='accuracy')\n",
    "        return np.mean(scores)\n",
    "\n",
    "    def plot_cumulative_returns(self):\n",
    "\n",
    "        # Get model predictions\n",
    "        predictions = self.predict(self.X_test)\n",
    "\n",
    "        # Compute daily returns only when prediction is 1 (buy)\n",
    "        returns = self.y_test.pct_change().fillna(0) * predictions\n",
    "\n",
    "        # Compute cumulative returns\n",
    "        cumulative_returns = (1 + returns).cumprod()\n",
    "\n",
    "        plt.figure(figsize=(10, 5))\n",
    "        plt.plot(cumulative_returns.index, cumulative_returns, label=\"Cumulative Returns\")\n",
    "        plt.axhline(1, linestyle=\"--\", color=\"red\", alpha=0.7)  # Baseline\n",
    "        plt.title(\"Cumulative Returns Over Time\")\n",
    "        plt.xlabel(\"Date\")\n",
    "        plt.ylabel(\"Cumulative Return\")\n",
    "        plt.legend()\n",
    "        plt.show()\n",
    "\n",
    "    def plot_precision_recall(self, test_set=None, y_true=None):\n",
    "        if test_set is None or y_true is None:\n",
    "            test_set = self.X_test\n",
    "            y_true = self.y_test\n",
    "\n",
    "        y_scores = self.model.predict_proba(test_set)[:, 1]  # Probabilities for class 1\n",
    "        precision, recall, _ = precision_recall_curve(y_true, y_scores)\n",
    "        plt.figure(figsize=(8, 5))\n",
    "        plt.plot(recall, precision, marker=\".\")\n",
    "        plt.xlabel(\"Recall\")\n",
    "        plt.ylabel(\"Precision\")\n",
    "        plt.title(\"Precision-Recall Curve\")\n",
    "        plt.show()"
   ]
  },
  {
   "cell_type": "code",
   "execution_count": null,
   "id": "95a99103-c74e-4cba-ad94-7066759fc6ea",
   "metadata": {},
   "outputs": [],
   "source": [
    "dat = pd.read_csv(\"SP.csv\", index_col=\"Date\", parse_dates=True)"
   ]
  },
  {
   "cell_type": "code",
   "execution_count": null,
   "id": "12f76d29-2c80-4feb-9ff2-d89987e3bc4a",
   "metadata": {},
   "outputs": [],
   "source": [
    "mdl = TradingAlgoXGB(dat)"
   ]
  },
  {
   "cell_type": "code",
   "execution_count": null,
   "id": "9f82c901-d9f0-4c5d-96c1-be0d7da8354d",
   "metadata": {},
   "outputs": [],
   "source": [
    "mdl.train_model()"
   ]
  },
  {
   "cell_type": "code",
   "execution_count": null,
   "id": "fdc54ff9-41d9-415a-9765-a4fd7ee6da0d",
   "metadata": {},
   "outputs": [],
   "source": [
    "mdl.cross_validate()"
   ]
  },
  {
   "cell_type": "code",
   "execution_count": null,
   "id": "57fef100-c7e8-4e83-bda7-5d32c11bde81",
   "metadata": {},
   "outputs": [],
   "source": [
    "mdl.plot_precision_recall()"
   ]
  },
  {
   "cell_type": "code",
   "execution_count": null,
   "id": "e17335a2-93c1-47c7-a77e-b3b16eb9e597",
   "metadata": {},
   "outputs": [],
   "source": [
    "mdl.plot_cumulative_returns()"
   ]
  }
 ],
 "metadata": {
  "kernelspec": {
   "display_name": "Python (tsenv)",
   "language": "python",
   "name": "tsenv"
  },
  "language_info": {
   "codemirror_mode": {
    "name": "ipython",
    "version": 3
   },
   "file_extension": ".py",
   "mimetype": "text/x-python",
   "name": "python",
   "nbconvert_exporter": "python",
   "pygments_lexer": "ipython3",
   "version": "3.11.11"
  }
 },
 "nbformat": 4,
 "nbformat_minor": 5
}
